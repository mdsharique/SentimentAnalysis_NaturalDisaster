{
 "cells": [
  {
   "cell_type": "code",
   "execution_count": 32,
   "metadata": {},
   "outputs": [],
   "source": [
    "import requests\n",
    "import scrapy\n",
    "import pandas as pd"
   ]
  },
  {
   "cell_type": "code",
   "execution_count": 33,
   "metadata": {},
   "outputs": [],
   "source": [
    "comment = []\n",
    "time = []\n",
    "user = []"
   ]
  },
  {
   "cell_type": "code",
   "execution_count": 34,
   "metadata": {},
   "outputs": [],
   "source": [
    "start_url = \"https://forums.bharat-rakshak.com/viewtopic.php?f=1&t=6645\""
   ]
  },
  {
   "cell_type": "code",
   "execution_count": 35,
   "metadata": {},
   "outputs": [],
   "source": [
    "def get_response(url):\n",
    "    res = requests.get(url)\n",
    "    response = scrapy.http.TextResponse(res.url, body=res.text, encoding='utf-8')\n",
    "    return response"
   ]
  },
  {
   "cell_type": "code",
   "execution_count": 36,
   "metadata": {},
   "outputs": [],
   "source": [
    "def CallData(url):\n",
    "    response = get_response(url)\n",
    "    thread = response.xpath(\"//*[@class = 'content']\")\n",
    "    username = response.xpath(\"//*[@class = 'responsive-hide']//a/text()\").extract()\n",
    "    time_date = response.xpath(\"//*[@class = 'author']/text()\").extract()\n",
    "    \n",
    "    # for Extracting username\n",
    "    for i in range(len(username)):\n",
    "        user.append(username[i])\n",
    "    \n",
    "    # for Extracting time\n",
    "    for j in range(len(time_date)):\n",
    "        time.append(time_date[j])\n",
    "\n",
    "    #for comment extraction\n",
    "    for t in thread:\n",
    "        comment.append(\"\".join(t.xpath(\".//text()\").extract()))\n",
    "    \n",
    "    #for next page\n",
    "    next_thread = response.xpath(\"//*[@class = 'next']\")\n",
    "    next_url = next_thread.xpath(\".//a/@href\").extract_first()\n",
    "    if next_url:\n",
    "        next_url = \"https://forums.bharat-rakshak.com\"+next_url[1:]\n",
    "        CallData(next_url)"
   ]
  },
  {
   "cell_type": "code",
   "execution_count": 37,
   "metadata": {},
   "outputs": [],
   "source": [
    "CallData(start_url)"
   ]
  },
  {
   "cell_type": "code",
   "execution_count": 38,
   "metadata": {},
   "outputs": [],
   "source": [
    "data = pd.DataFrame({'user':user, 'date':time, 'comment':comment})"
   ]
  },
  {
   "cell_type": "code",
   "execution_count": 39,
   "metadata": {},
   "outputs": [],
   "source": [
    "data.to_csv('phailin_cyclone.csv', sep=',')"
   ]
  },
  {
   "cell_type": "code",
   "execution_count": null,
   "metadata": {},
   "outputs": [],
   "source": []
  }
 ],
 "metadata": {
  "kernelspec": {
   "display_name": "Python 3",
   "language": "python",
   "name": "python3"
  },
  "language_info": {
   "codemirror_mode": {
    "name": "ipython",
    "version": 3
   },
   "file_extension": ".py",
   "mimetype": "text/x-python",
   "name": "python",
   "nbconvert_exporter": "python",
   "pygments_lexer": "ipython3",
   "version": "3.6.5"
  }
 },
 "nbformat": 4,
 "nbformat_minor": 2
}
