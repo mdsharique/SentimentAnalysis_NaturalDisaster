{
 "cells": [
  {
   "cell_type": "markdown",
   "metadata": {},
   "source": [
    "# Import Libraries"
   ]
  },
  {
   "cell_type": "code",
   "execution_count": 20,
   "metadata": {},
   "outputs": [],
   "source": [
    "import pandas as pd\n",
    "import numpy as np\n",
    "import nltk\n",
    "from nltk.corpus import sentiwordnet as swn\n",
    "from nltk.corpus import stopwords\n",
    "from nltk.stem import WordNetLemmatizer\n",
    "from autocorrect import spell\n",
    "import re\n",
    "from itertools import chain\n",
    "import seaborn as sns"
   ]
  },
  {
   "cell_type": "markdown",
   "metadata": {},
   "source": [
    "# Function to Seperate Sentence from Paragraph"
   ]
  },
  {
   "cell_type": "code",
   "execution_count": 21,
   "metadata": {},
   "outputs": [],
   "source": [
    "def chains(para):\n",
    "    return list(chain.from_iterable(para.str.split('.')))"
   ]
  },
  {
   "cell_type": "markdown",
   "metadata": {},
   "source": [
    "# Function to Clean & Process Data"
   ]
  },
  {
   "cell_type": "code",
   "execution_count": 22,
   "metadata": {},
   "outputs": [],
   "source": [
    "def process_data(df):\n",
    "    \n",
    "    df = df.dropna() # Drop all NaN value\n",
    "    \n",
    "    # Seperate Sentence from Paragraph\n",
    "    length = df['comment'].str.split('.').map(len)\n",
    "    data = pd.DataFrame({'user': np.repeat(df['user'], length),'date': np.repeat(df['date'], length),\n",
    "                         'comment': chains(df['comment'])})\n",
    "    \n",
    "    return data"
   ]
  },
  {
   "cell_type": "markdown",
   "metadata": {},
   "source": [
    "# Function to filter text"
   ]
  },
  {
   "cell_type": "code",
   "execution_count": 23,
   "metadata": {},
   "outputs": [],
   "source": [
    "def filtered_text(text):\n",
    "    filter0 = [(t.lower(), tag) for t,tag in text]\n",
    "    filter1 = [(re.sub(\"[\"+\"\".join(sp)+\"+]\",' ',f), tag) for f,tag in filter0]    #for removing delimiter and other useless stuff\n",
    "    filter2 = [(''.join (f), tag) for f,tag in filter1 if not f.isnumeric()]      #for removing numbers\n",
    "    filter3 = [(f, tag) for f,tag in filter2 if f not in stopword]                #for removing stopwords\n",
    "    #filter4 = [(lemma.lemmatize(f), tag) for f,tag in filter3]                   #for lemmatizing the words\n",
    "    return filter3"
   ]
  },
  {
   "cell_type": "markdown",
   "metadata": {},
   "source": [
    "# Function to Calculate Sentiment Score of a Word"
   ]
  },
  {
   "cell_type": "code",
   "execution_count": 24,
   "metadata": {},
   "outputs": [],
   "source": [
    "def cal_score(word, tag):\n",
    "    try:\n",
    "        s_pos = [] # Positive Score\n",
    "        s_neg = [] # negative Score\n",
    "        s_obj = [] # Objective Score\n",
    "        \n",
    "        for s in list(swn.senti_synsets(word, tag)):\n",
    "            s_pos.append(s.pos_score())\n",
    "            s_neg.append(s.neg_score())\n",
    "          \n",
    "            if (s.pos_score() == 0.0 and s.neg_score() == 0.0):\n",
    "                score = 2 * s.obj_score()\n",
    "                break\n",
    "                \n",
    "        max_pos = max(s_pos)\n",
    "        max_neg = max(s_neg)\n",
    "        \n",
    "        if max_pos > max_neg:\n",
    "            score = max_pos\n",
    "        else:\n",
    "            score = -1*max_neg\n",
    "    except ValueError:\n",
    "        score = 0.0\n",
    "        \n",
    "    return score"
   ]
  },
  {
   "cell_type": "markdown",
   "metadata": {},
   "source": [
    "# Function to Calculate Sentiment Score of a Sentence"
   ]
  },
  {
   "cell_type": "code",
   "execution_count": 25,
   "metadata": {},
   "outputs": [],
   "source": [
    "def cal_senti_score(tokens):\n",
    "    for text in (tokens):\n",
    "\n",
    "        tagged_word = nltk.pos_tag(text)                                    # Each Word is tagged with a POS\n",
    "        filt_word = filtered_text(tagged_word)                 \n",
    "        score_post = adj_score = adv_score = vb_score = adv_score = 0.0\n",
    "\n",
    "        for word,tag in filt_word:\n",
    "\n",
    "            if tag in adv:                                                  # To find Adverb Score\n",
    "                if tag == 'RBS':\n",
    "                    adv_score = adv_score + (1.5 * cal_score(word, 'r'))\n",
    "                elif tag == 'RBR':\n",
    "                    adv_score = adv_score + (1.2 * cal_score(word, 'r'))\n",
    "                else:\n",
    "                    adv_score = adv_score + (1.0 * cal_score(word, 'r'))\n",
    "\n",
    "            elif tag in adj:                                                # To find Adjective Score\n",
    "                adj_score = cal_score(word, 'a')\n",
    "                if tag == 'JJS':\n",
    "                    score_post = score_post + (0.4 * adv_score + 1) * (1.5 * adj_score)   # 1.5, 1.2, 1.0 are the respective Scaling Factors\n",
    "                elif tag == 'JJR':\n",
    "                    score_post = score_post + (0.4 * adv_score + 1) * (1.2 * adj_score)\n",
    "                else:\n",
    "                    score_post = score_post + (0.4 * adv_score + 1) * (1.0 * adj_score)\n",
    "                adv_score = 0.0\n",
    "\n",
    "            elif tag in vb:                                                 # To find Verb Score\n",
    "                vb_score = cal_score(word, 'v')\n",
    "                score_post = score_post + (0.4 * adv_score + 1) * vb_score  # 0.4 is a Scaling Factor\n",
    "                adv_score = 0.0\n",
    "\n",
    "        final_score.append(score_post)                                      # Final Sentiment Score of a Sentence"
   ]
  },
  {
   "cell_type": "markdown",
   "metadata": {},
   "source": [
    "# Function to Calculate Sentiment Score of a Disaster"
   ]
  },
  {
   "cell_type": "code",
   "execution_count": 26,
   "metadata": {},
   "outputs": [],
   "source": [
    "def final_senti_score(data, df):\n",
    "    \n",
    "    tokens = [nltk.word_tokenize(d) for d in data['comment']]                     # Tokenize the Sentence\n",
    "    cal_senti_score(tokens)\n",
    "    \n",
    "    senti_score = pd.Series(final_score)\n",
    "    data['sentiment_score'] = senti_score.values\n",
    "    \n",
    "    senti_data = data.groupby(data.index).sum()\n",
    "    final_data = df.join(senti_data)\n",
    "    \n",
    "    time = final_data['date'].str.split()\n",
    "    date = []\n",
    "    for t in time:\n",
    "        date.append(\" \".join(t[0:3]))\n",
    "    final_data['date'] = date\n",
    "    \n",
    "    disaster_senti_score = final_data.groupby(['date', 'user']).mean()['sentiment_score'].sum()\n",
    "    return disaster_senti_score"
   ]
  },
  {
   "cell_type": "markdown",
   "metadata": {},
   "source": [
    "# Define Some Variables"
   ]
  },
  {
   "cell_type": "code",
   "execution_count": 27,
   "metadata": {},
   "outputs": [],
   "source": [
    " # Create Stopwords\n",
    "stopword = set(stopwords.words('english')) \n",
    "sp_char = ['.','-','*','@','$','%','&', '#',',', '\"', \"'\", '?', '!', ':', ';', ')', ']', '[', '(', '}', '{','1','2','3','4','5','6','7','8','9',' ','  ','   ','~','`','|','/']\n",
    "sp = ['.','*','-','@','$','%','&', '#',',', '\"', \"'\", '?', '!', ':', ';', ')', '(', '}', '{','1','2','3','4','5','6','7','8','9','~','`','|','/']\n",
    "stopword.update(sp_char)\n",
    "lemma = WordNetLemmatizer()\n",
    "\n",
    "adj = ['JJ', 'JJR', 'JJS']                      # All Adjective POS Tags\n",
    "#noun = ['NN', 'NNP', 'NNPS', 'NNS']            # All Noun POS Tags\n",
    "adv = ['RB', 'RBR', 'RBS']                      # All Adverb POS Tags\n",
    "vb = ['VB', 'VBD', 'VBG', 'VBN', 'VBP', 'VBZ']  # All verb POS Tags\n",
    "final_score = []"
   ]
  },
  {
   "cell_type": "markdown",
   "metadata": {},
   "source": [
    "# Load Data"
   ]
  },
  {
   "cell_type": "code",
   "execution_count": 28,
   "metadata": {},
   "outputs": [],
   "source": [
    "data = pd.read_csv(\"Japan2016_Earthquake.csv\")"
   ]
  },
  {
   "cell_type": "code",
   "execution_count": 29,
   "metadata": {},
   "outputs": [
    {
     "data": {
      "text/html": [
       "<div>\n",
       "<style scoped>\n",
       "    .dataframe tbody tr th:only-of-type {\n",
       "        vertical-align: middle;\n",
       "    }\n",
       "\n",
       "    .dataframe tbody tr th {\n",
       "        vertical-align: top;\n",
       "    }\n",
       "\n",
       "    .dataframe thead th {\n",
       "        text-align: right;\n",
       "    }\n",
       "</style>\n",
       "<table border=\"1\" class=\"dataframe\">\n",
       "  <thead>\n",
       "    <tr style=\"text-align: right;\">\n",
       "      <th></th>\n",
       "      <th>user</th>\n",
       "      <th>date</th>\n",
       "      <th>comment</th>\n",
       "    </tr>\n",
       "  </thead>\n",
       "  <tbody>\n",
       "    <tr>\n",
       "      <th>0</th>\n",
       "      <td>StuOnTour</td>\n",
       "      <td>11/22/2016</td>\n",
       "      <td>Tokyo here - woke up just before 6AM with some...</td>\n",
       "    </tr>\n",
       "    <tr>\n",
       "      <th>1</th>\n",
       "      <td>Mr-Thumpasaurus</td>\n",
       "      <td>11/22/2016</td>\n",
       "      <td>Just wanted to weigh in on this one - Sounds l...</td>\n",
       "    </tr>\n",
       "    <tr>\n",
       "      <th>2</th>\n",
       "      <td>forty_two_monkeys</td>\n",
       "      <td>11/22/2016</td>\n",
       "      <td>You can see the water retracting on the NHK li...</td>\n",
       "    </tr>\n",
       "    <tr>\n",
       "      <th>3</th>\n",
       "      <td>Nukemarine</td>\n",
       "      <td>11/22/2016</td>\n",
       "      <td>Currently, I'm about 320 km south of Fukushima...</td>\n",
       "    </tr>\n",
       "    <tr>\n",
       "      <th>4</th>\n",
       "      <td>[deleted]</td>\n",
       "      <td>11/22/2016</td>\n",
       "      <td>Could this be an aftershock?\\n\\nI'm not the ea...</td>\n",
       "    </tr>\n",
       "  </tbody>\n",
       "</table>\n",
       "</div>"
      ],
      "text/plain": [
       "                user        date  \\\n",
       "0          StuOnTour  11/22/2016   \n",
       "1    Mr-Thumpasaurus  11/22/2016   \n",
       "2  forty_two_monkeys  11/22/2016   \n",
       "3         Nukemarine  11/22/2016   \n",
       "4          [deleted]  11/22/2016   \n",
       "\n",
       "                                             comment  \n",
       "0  Tokyo here - woke up just before 6AM with some...  \n",
       "1  Just wanted to weigh in on this one - Sounds l...  \n",
       "2  You can see the water retracting on the NHK li...  \n",
       "3  Currently, I'm about 320 km south of Fukushima...  \n",
       "4  Could this be an aftershock?\\n\\nI'm not the ea...  "
      ]
     },
     "execution_count": 29,
     "metadata": {},
     "output_type": "execute_result"
    }
   ],
   "source": [
    "data.head()"
   ]
  },
  {
   "cell_type": "code",
   "execution_count": 30,
   "metadata": {},
   "outputs": [
    {
     "data": {
      "text/plain": [
       "(99, 3)"
      ]
     },
     "execution_count": 30,
     "metadata": {},
     "output_type": "execute_result"
    }
   ],
   "source": [
    "data.shape"
   ]
  },
  {
   "cell_type": "code",
   "execution_count": 31,
   "metadata": {},
   "outputs": [
    {
     "data": {
      "text/plain": [
       "user       False\n",
       "date       False\n",
       "comment    False\n",
       "dtype: bool"
      ]
     },
     "execution_count": 31,
     "metadata": {},
     "output_type": "execute_result"
    }
   ],
   "source": [
    " data.isnull().any() #Check for NaN value"
   ]
  },
  {
   "cell_type": "code",
   "execution_count": 32,
   "metadata": {},
   "outputs": [],
   "source": [
    "processed_data = process_data(data)"
   ]
  },
  {
   "cell_type": "code",
   "execution_count": 33,
   "metadata": {},
   "outputs": [
    {
     "data": {
      "text/html": [
       "<div>\n",
       "<style scoped>\n",
       "    .dataframe tbody tr th:only-of-type {\n",
       "        vertical-align: middle;\n",
       "    }\n",
       "\n",
       "    .dataframe tbody tr th {\n",
       "        vertical-align: top;\n",
       "    }\n",
       "\n",
       "    .dataframe thead th {\n",
       "        text-align: right;\n",
       "    }\n",
       "</style>\n",
       "<table border=\"1\" class=\"dataframe\">\n",
       "  <thead>\n",
       "    <tr style=\"text-align: right;\">\n",
       "      <th></th>\n",
       "      <th>user</th>\n",
       "      <th>date</th>\n",
       "      <th>comment</th>\n",
       "    </tr>\n",
       "  </thead>\n",
       "  <tbody>\n",
       "    <tr>\n",
       "      <th>0</th>\n",
       "      <td>StuOnTour</td>\n",
       "      <td>11/22/2016</td>\n",
       "      <td>Tokyo here - woke up just before 6AM with some...</td>\n",
       "    </tr>\n",
       "    <tr>\n",
       "      <th>0</th>\n",
       "      <td>StuOnTour</td>\n",
       "      <td>11/22/2016</td>\n",
       "      <td>Seemed to last forever</td>\n",
       "    </tr>\n",
       "    <tr>\n",
       "      <th>0</th>\n",
       "      <td>StuOnTour</td>\n",
       "      <td>11/22/2016</td>\n",
       "      <td>All ok now though</td>\n",
       "    </tr>\n",
       "    <tr>\n",
       "      <th>0</th>\n",
       "      <td>StuOnTour</td>\n",
       "      <td>11/22/2016</td>\n",
       "      <td>Usually just try to go back to sleep but my g...</td>\n",
       "    </tr>\n",
       "    <tr>\n",
       "      <th>0</th>\n",
       "      <td>StuOnTour</td>\n",
       "      <td>11/22/2016</td>\n",
       "      <td>Too much excitement for this early</td>\n",
       "    </tr>\n",
       "  </tbody>\n",
       "</table>\n",
       "</div>"
      ],
      "text/plain": [
       "        user        date                                            comment\n",
       "0  StuOnTour  11/22/2016  Tokyo here - woke up just before 6AM with some...\n",
       "0  StuOnTour  11/22/2016                             Seemed to last forever\n",
       "0  StuOnTour  11/22/2016                                  All ok now though\n",
       "0  StuOnTour  11/22/2016   Usually just try to go back to sleep but my g...\n",
       "0  StuOnTour  11/22/2016                 Too much excitement for this early"
      ]
     },
     "execution_count": 33,
     "metadata": {},
     "output_type": "execute_result"
    }
   ],
   "source": [
    "processed_data.head()"
   ]
  },
  {
   "cell_type": "code",
   "execution_count": 34,
   "metadata": {},
   "outputs": [
    {
     "data": {
      "text/plain": [
       "(517, 3)"
      ]
     },
     "execution_count": 34,
     "metadata": {},
     "output_type": "execute_result"
    }
   ],
   "source": [
    "processed_data.shape"
   ]
  },
  {
   "cell_type": "code",
   "execution_count": 35,
   "metadata": {},
   "outputs": [
    {
     "data": {
      "text/plain": [
       "user       False\n",
       "date       False\n",
       "comment    False\n",
       "dtype: bool"
      ]
     },
     "execution_count": 35,
     "metadata": {},
     "output_type": "execute_result"
    }
   ],
   "source": [
    "processed_data.isnull().any() #Check for NaN value"
   ]
  },
  {
   "cell_type": "code",
   "execution_count": 36,
   "metadata": {},
   "outputs": [
    {
     "data": {
      "text/plain": [
       "-25.59104166666667"
      ]
     },
     "execution_count": 36,
     "metadata": {},
     "output_type": "execute_result"
    }
   ],
   "source": [
    "japan16_sentiment_score = final_senti_score(processed_data, data)\n",
    "japan16_sentiment_score"
   ]
  },
  {
   "cell_type": "markdown",
   "metadata": {},
   "source": [
    "# Print All 7 Natural Disaster Sentiment Score"
   ]
  },
  {
   "cell_type": "code",
   "execution_count": 304,
   "metadata": {},
   "outputs": [
    {
     "name": "stdout",
     "output_type": "stream",
     "text": [
      "Kerala 2018 Sentiment Score : -126.87267207792208\n",
      "Phailin 2013 Sentiment Score : -11.243073931277056\n",
      "Japan 2011 Sentiment Score : -343.8414434314983\n",
      "Chennai 2015 Sentiment Score : -46.19744793401044\n",
      "Japan 2016 Sentiment Score : -25.59104166666667\n",
      "Nepal 2015 Sentiment Score : -15.12263888888889\n",
      "Indonesia 2018 Sentiment Score : -6.971875000000001\n"
     ]
    }
   ],
   "source": [
    "print(\"Kerala 2018 Sentiment Score :\", kerala_sentiment_score)\n",
    "print(\"Phailin 2013 Sentiment Score :\", phailin_sentiment_score)\n",
    "print(\"Japan 2011 Sentiment Score :\", japan11_sentiment_score)\n",
    "print(\"Chennai 2015 Sentiment Score :\", chennai_sentiment_score)\n",
    "print(\"Japan 2016 Sentiment Score :\", japan16_sentiment_score)\n",
    "print(\"Nepal 2015 Sentiment Score :\", nepal_sentiment_score)\n",
    "print(\"Indonesia 2018 Sentiment Score :\", indonesia_sentiment_score)"
   ]
  },
  {
   "cell_type": "markdown",
   "metadata": {},
   "source": [
    "# Store Sentiment Scores and Monetary Impact in a Dataframe"
   ]
  },
  {
   "cell_type": "code",
   "execution_count": 344,
   "metadata": {},
   "outputs": [],
   "source": [
    "impact = [112.72, 0.655, 360, 42.04, 1.21, 0.013, 0.0131]\n",
    "sentiments = [kerala_sentiment_score, phailin_sentiment_score, japan11_sentiment_score, chennai_sentiment_score,\n",
    "             japan16_sentiment_score, nepal_sentiment_score, indonesia_sentiment_score]\n",
    "sentiment_result = pd.DataFrame({'Sentiment Score of Natural Disasters': sentiments, 'Monetary Impacts': impact})"
   ]
  },
  {
   "cell_type": "code",
   "execution_count": 345,
   "metadata": {},
   "outputs": [
    {
     "data": {
      "text/html": [
       "<div>\n",
       "<style scoped>\n",
       "    .dataframe tbody tr th:only-of-type {\n",
       "        vertical-align: middle;\n",
       "    }\n",
       "\n",
       "    .dataframe tbody tr th {\n",
       "        vertical-align: top;\n",
       "    }\n",
       "\n",
       "    .dataframe thead th {\n",
       "        text-align: right;\n",
       "    }\n",
       "</style>\n",
       "<table border=\"1\" class=\"dataframe\">\n",
       "  <thead>\n",
       "    <tr style=\"text-align: right;\">\n",
       "      <th></th>\n",
       "      <th>Sentiment Score of Natural Disasters</th>\n",
       "      <th>Monetary Impacts</th>\n",
       "    </tr>\n",
       "  </thead>\n",
       "  <tbody>\n",
       "    <tr>\n",
       "      <th>0</th>\n",
       "      <td>-126.872672</td>\n",
       "      <td>112.7200</td>\n",
       "    </tr>\n",
       "    <tr>\n",
       "      <th>1</th>\n",
       "      <td>-11.243074</td>\n",
       "      <td>0.6550</td>\n",
       "    </tr>\n",
       "    <tr>\n",
       "      <th>2</th>\n",
       "      <td>-343.841443</td>\n",
       "      <td>360.0000</td>\n",
       "    </tr>\n",
       "    <tr>\n",
       "      <th>3</th>\n",
       "      <td>-46.197448</td>\n",
       "      <td>42.0400</td>\n",
       "    </tr>\n",
       "    <tr>\n",
       "      <th>4</th>\n",
       "      <td>-25.591042</td>\n",
       "      <td>1.2100</td>\n",
       "    </tr>\n",
       "    <tr>\n",
       "      <th>5</th>\n",
       "      <td>-15.122639</td>\n",
       "      <td>0.0130</td>\n",
       "    </tr>\n",
       "    <tr>\n",
       "      <th>6</th>\n",
       "      <td>-6.971875</td>\n",
       "      <td>0.0131</td>\n",
       "    </tr>\n",
       "  </tbody>\n",
       "</table>\n",
       "</div>"
      ],
      "text/plain": [
       "   Sentiment Score of Natural Disasters  Monetary Impacts\n",
       "0                           -126.872672          112.7200\n",
       "1                            -11.243074            0.6550\n",
       "2                           -343.841443          360.0000\n",
       "3                            -46.197448           42.0400\n",
       "4                            -25.591042            1.2100\n",
       "5                            -15.122639            0.0130\n",
       "6                             -6.971875            0.0131"
      ]
     },
     "execution_count": 345,
     "metadata": {},
     "output_type": "execute_result"
    }
   ],
   "source": [
    "sentiment_result.head(7)"
   ]
  },
  {
   "cell_type": "markdown",
   "metadata": {},
   "source": [
    "# Plot and fit regression Model"
   ]
  },
  {
   "cell_type": "code",
   "execution_count": 346,
   "metadata": {},
   "outputs": [
    {
     "data": {
      "text/plain": [
       "<seaborn.axisgrid.FacetGrid at 0x7f933bd77b00>"
      ]
     },
     "execution_count": 346,
     "metadata": {},
     "output_type": "execute_result"
    },
    {
     "data": {
      "image/png": "[encoded data removed]",
      "text/plain": [
       "<Figure size 360x360 with 1 Axes>"
      ]
     },
     "metadata": {
      "needs_background": "light"
     },
     "output_type": "display_data"
    }
   ],
   "source": [
    "sns.lmplot(x = 'Sentiment Score of Natural Disasters', y = 'Monetary Impacts', data = sentiment_result)"
   ]
  }
 ],
 "metadata": {
  "kernelspec": {
   "display_name": "Python 3",
   "language": "python",
   "name": "python3"
  },
  "language_info": {
   "codemirror_mode": {
    "name": "ipython",
    "version": 3
   },
   "file_extension": ".py",
   "mimetype": "text/x-python",
   "name": "python",
   "nbconvert_exporter": "python",
   "pygments_lexer": "ipython3",
   "version": "3.6.5"
  }
 },
 "nbformat": 4,
 "nbformat_minor": 2
}
